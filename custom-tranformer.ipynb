{
 "cells": [
  {
   "cell_type": "code",
   "execution_count": null,
   "metadata": {},
   "outputs": [],
   "source": [
    "import pandas as pd\n",
    "from sklearn.base import BaseEstimator, TransformerMixin\n",
    "\n",
    "# Define el custom transformer para agregar la columna con valores 1 en los nulos\n",
    "class AddColumnForNulls(BaseEstimator, TransformerMixin):\n",
    "    def __init__(self, column_name,column_name1,column_name2,column_name3,column_name4):\n",
    "        self.column_name = column_name\n",
    "        self.column_name1 = column_name1\n",
    "        self.column_name2 = column_name2\n",
    "        self.column_name3 = column_name3\n",
    "        self.column_name4 = column_name4\n",
    "\n",
    "    def fit(self, X, y=None):\n",
    "        return self\n",
    "\n",
    "    def transform(self, X):\n",
    "        # Crea una copia del DataFrame para no modificar el original\n",
    "        X_transformed = X.copy()\n",
    "\n",
    "        # Crea una nueva columna con 1 en las celdas nulas\n",
    "        X_transformed[self.column_name + '_nulos'] = X_transformed[self.column_name].isnull().astype(int)\n",
    "        X_transformed[self.column_name1 + '_nulos'] = X_transformed[self.column_name1].isnull().astype(int)\n",
    "        X_transformed[self.column_name2 + '_nulos'] = X_transformed[self.column_name2].isnull().astype(int)\n",
    "        X_transformed[self.column_name3 + '_nulos'] = X_transformed[self.column_name3].isnull().astype(int)\n",
    "        X_transformed[self.column_name4 + '_nulos'] = X_transformed[self.column_name4].isnull().astype(int)\n",
    "\n",
    "        return X_transformed\n",
    "\n",
    "# Carga el dataset desde un archivo CSV (cambia 'ruta_del_archivo.csv' por la ubicación de tu archivo)\n",
    "df = pd.read_csv(r'/Users/SISTEMAS/MLOps_Activities/MLOPS_ACTIVITIES/datasets/rawdata/raw-data.csv')\n",
    "\n",
    "# Instancia el transformador personalizado y agrégale una nueva columna llamada 'nombre_columna_nulos' con 1 en las celdas nulas\n",
    "transformer = AddColumnForNulls(column_name='pclass', column_name1='age', column_name2='sibsp', column_name3='parch', column_name4='fare')\n",
    "\n",
    "# Aplica la transformación al dataset\n",
    "df_transformed = transformer.transform(df)\n",
    "\n",
    "# Muestra el dataset con la nueva columna que tiene 1 en lugar de los valores nulos\n",
    "#print(df_transformed)\n",
    "df_transformed\n",
    "#df_transformed.isnull().sum()\n"
   ]
  }
 ],
 "metadata": {
  "language_info": {
   "name": "python"
  },
  "orig_nbformat": 4
 },
 "nbformat": 4,
 "nbformat_minor": 2
}
