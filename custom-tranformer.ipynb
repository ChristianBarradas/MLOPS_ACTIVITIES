{
 "cells": [
  {
   "cell_type": "code",
   "execution_count": null,
   "metadata": {},
   "outputs": [],
   "source": [
    "import pandas as pd\n",
    "from sklearn.base import BaseEstimator, TransformerMixin\n",
    "\n",
    "# Define el custom transformer para agregar la columna con valores 1 en los nulos\n",
    "class AddColumnForNulls(BaseEstimator, TransformerMixin):\n",
    "    def __init__(self, column_name,column_name1,column_name2,column_name3,column_name4):\n",
    "        self.column_name = column_name\n",
    "        self.column_name1 = column_name1\n",
    "        self.column_name2 = column_name2\n",
    "        self.column_name3 = column_name3\n",
    "        self.column_name4 = column_name4\n",
    "\n",
    "    def fit(self, X, y=None):\n",
    "        return self\n",
    "\n",
    "    def transform(self, X):\n",
    "        # Create a copy of the DataFrame so as not to modify the original\n",
    "        X_transformed = X.copy()\n",
    "\n",
    "        # Create a new column with 1 in the null cells\n",
    "        X_transformed[self.column_name + '_nulos'] = X_transformed[self.column_name].isnull().astype(int)\n",
    "        X_transformed[self.column_name1 + '_nulos'] = X_transformed[self.column_name1].isnull().astype(int)\n",
    "        X_transformed[self.column_name2 + '_nulos'] = X_transformed[self.column_name2].isnull().astype(int)\n",
    "        X_transformed[self.column_name3 + '_nulos'] = X_transformed[self.column_name3].isnull().astype(int)\n",
    "        X_transformed[self.column_name4 + '_nulos'] = X_transformed[self.column_name4].isnull().astype(int)\n",
    "\n",
    "        return X_transformed\n",
    "\n",
    "# Load the dataset from a CSV file (change 'path_to_file.csv' with the location of your file)\n",
    "df = pd.read_csv(r'/Users/SISTEMAS/MLOps_Activities/MLOPS_ACTIVITIES/datasets/rawdata/raw-data.csv')\n",
    "\n",
    "# Instantiate the custom transformer and add a new column to it named 'null_column_name' with 1 in the null cells\n",
    "transformer = AddColumnForNulls(column_name='pclass', column_name1='age', column_name2='sibsp', column_name3='parch', column_name4='fare')\n",
    "\n",
    "# Applies the transformation to the dataset\n",
    "df_transformed = transformer.transform(df)\n",
    "\n",
    "# Returns the dataset with the new column that has 1 instead of the null values\n",
    "#print(df_transformed)\n",
    "df_transformed\n",
    "#df_transformed.isnull().sum()\n"
   ]
  }
 ],
 "metadata": {
  "language_info": {
   "name": "python"
  },
  "orig_nbformat": 4
 },
 "nbformat": 4,
 "nbformat_minor": 2
}
